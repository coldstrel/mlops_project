{
 "cells": [
  {
   "cell_type": "code",
   "execution_count": 1,
   "id": "7819bbeb",
   "metadata": {},
   "outputs": [],
   "source": [
    "import pandas as pd "
   ]
  },
  {
   "cell_type": "code",
   "execution_count": 3,
   "id": "7628928c",
   "metadata": {},
   "outputs": [],
   "source": [
    "df = pd.read_csv(\"../pcos_data.csv\")\n"
   ]
  },
  {
   "cell_type": "code",
   "execution_count": 6,
   "id": "3a246dc0",
   "metadata": {},
   "outputs": [
    {
     "data": {
      "text/plain": [
       "Age                          0\n",
       "BMI                          0\n",
       "Menstrual_Irregularity       0\n",
       "Testosterone_Level(ng/dL)    0\n",
       "Antral_Follicle_Count        0\n",
       "PCOS_Diagnosis               0\n",
       "dtype: int64"
      ]
     },
     "execution_count": 6,
     "metadata": {},
     "output_type": "execute_result"
    }
   ],
   "source": [
    "## Check for missing values\n",
    "df.isna().sum()"
   ]
  },
  {
   "cell_type": "code",
   "execution_count": 8,
   "id": "24f1c586",
   "metadata": {},
   "outputs": [
    {
     "data": {
      "text/plain": [
       "PCOS_Diagnosis\n",
       "0    2400\n",
       "1     600\n",
       "Name: count, dtype: int64"
      ]
     },
     "execution_count": 8,
     "metadata": {},
     "output_type": "execute_result"
    }
   ],
   "source": [
    "df['PCOS_Diagnosis'].value_counts()"
   ]
  },
  {
   "cell_type": "code",
   "execution_count": 51,
   "id": "e799ea33",
   "metadata": {},
   "outputs": [],
   "source": [
    "# apply SMOTE for data balance\n",
    "# split data into features and target\n",
    "X = df.drop(columns=[\"PCOS_Diagnosis\"])\n",
    "y = df[\"PCOS_Diagnosis\"]\n",
    "\n",
    "# split into train and test set\n",
    "from sklearn.model_selection import train_test_split\n",
    "from sklearn.preprocessing import StandardScaler, MinMaxScaler\n",
    "from imblearn.over_sampling import SMOTE\n",
    "\n",
    "X_train, X_test, y_train, y_test = train_test_split(X, y, test_size = 0.2, random_state = 42)\n",
    "smote = SMOTE(random_state=42, sampling_strategy=\"all\")\n",
    "X_train, y_train = smote.fit_resample(X_train, y_train)\n"
   ]
  },
  {
   "cell_type": "code",
   "execution_count": 52,
   "id": "e345d888",
   "metadata": {},
   "outputs": [
    {
     "data": {
      "text/plain": [
       "PCOS_Diagnosis\n",
       "0    1939\n",
       "1    1939\n",
       "Name: count, dtype: int64"
      ]
     },
     "execution_count": 52,
     "metadata": {},
     "output_type": "execute_result"
    }
   ],
   "source": [
    "y_train.value_counts()"
   ]
  },
  {
   "cell_type": "code",
   "execution_count": 53,
   "id": "a2527fdd",
   "metadata": {},
   "outputs": [],
   "source": [
    "scaler = MinMaxScaler()\n",
    "X_train = scaler.fit_transform(X_train)\n",
    "X_test = scaler.transform(X_test)"
   ]
  },
  {
   "cell_type": "code",
   "execution_count": 54,
   "id": "f1678819",
   "metadata": {},
   "outputs": [],
   "source": [
    "PENALTY = \"l2\"\n",
    "MAX_ITER = 1000"
   ]
  },
  {
   "cell_type": "code",
   "execution_count": 55,
   "id": "e76dc149",
   "metadata": {},
   "outputs": [
    {
     "name": "stdout",
     "output_type": "stream",
     "text": [
      "              precision    recall  f1-score   support\n",
      "\n",
      "           0       1.00      0.99      1.00       461\n",
      "           1       0.98      1.00      0.99       139\n",
      "\n",
      "    accuracy                           0.99       600\n",
      "   macro avg       0.99      1.00      0.99       600\n",
      "weighted avg       1.00      0.99      1.00       600\n",
      "\n"
     ]
    }
   ],
   "source": [
    "from sklearn.linear_model import LogisticRegression\n",
    "from sklearn.metrics import classification_report, confusion_matrix, accuracy_score\n",
    "lr_model = LogisticRegression(penalty = PENALTY, max_iter = MAX_ITER, random_state = 42)\n",
    "lr_model.fit(X_train, y_train)\n",
    "\n",
    "y_pred = lr_model.predict(X_test)\n",
    "report = classification_report(y_test, y_pred)\n",
    "print(report)"
   ]
  },
  {
   "cell_type": "code",
   "execution_count": null,
   "id": "dce90247",
   "metadata": {},
   "outputs": [],
   "source": []
  }
 ],
 "metadata": {
  "kernelspec": {
   "display_name": "POSvenv",
   "language": "python",
   "name": "python3"
  },
  "language_info": {
   "codemirror_mode": {
    "name": "ipython",
    "version": 3
   },
   "file_extension": ".py",
   "mimetype": "text/x-python",
   "name": "python",
   "nbconvert_exporter": "python",
   "pygments_lexer": "ipython3",
   "version": "3.12.0"
  }
 },
 "nbformat": 4,
 "nbformat_minor": 5
}
